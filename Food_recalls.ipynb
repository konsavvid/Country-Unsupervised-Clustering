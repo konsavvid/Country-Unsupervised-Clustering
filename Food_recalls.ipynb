{
 "cells": [
  {
   "cell_type": "code",
   "execution_count": 1,
   "id": "d9855106",
   "metadata": {},
   "outputs": [],
   "source": [
    "import pandas as pd\n",
    "import numpy as np\n",
    "import re\n",
    "from nltk.corpus import stopwords\n",
    "from nltk.stem import WordNetLemmatizer\n",
    "from sklearn.feature_extraction.text import CountVectorizer, TfidfVectorizer\n",
    "from nltk import word_tokenize, pos_tag\n",
    "import matplotlib.pyplot as plt\n",
    "from wordcloud import WordCloud\n",
    "import nltk\n",
    "from nltk.tokenize import RegexpTokenizer, word_tokenize\n",
    "from PIL import Image\n",
    "import plotly.express as px\n",
    "\n"
   ]
  },
  {
   "cell_type": "code",
   "execution_count": 2,
   "id": "97e11294",
   "metadata": {},
   "outputs": [],
   "source": [
    "# kaggle link for dataset: https://www.kaggle.com/datasets/chiyucheng/fda-food-enforcement-20082022?select=food_enforcement.csv\n",
    "# reading the dataset in pandas dataframe\n",
    "\n",
    "df = pd.read_csv('food_enforcement.csv')"
   ]
  },
  {
   "cell_type": "markdown",
   "id": "6f2c868b",
   "metadata": {},
   "source": [
    "## EDA to the first dataset"
   ]
  },
  {
   "cell_type": "code",
   "execution_count": 3,
   "id": "06528ab2",
   "metadata": {},
   "outputs": [
    {
     "name": "stdout",
     "output_type": "stream",
     "text": [
      "<class 'pandas.core.frame.DataFrame'>\n",
      "RangeIndex: 22840 entries, 0 to 22839\n",
      "Data columns (total 22 columns):\n",
      " #   Column                      Non-Null Count  Dtype \n",
      "---  ------                      --------------  ----- \n",
      " 0   status                      22840 non-null  object\n",
      " 1   city                        22840 non-null  object\n",
      " 2   state                       22534 non-null  object\n",
      " 3   country                     22840 non-null  object\n",
      " 4   classification              22840 non-null  object\n",
      " 5   event_id                    22840 non-null  int64 \n",
      " 6   recalling_firm              22840 non-null  object\n",
      " 7   address_1                   22838 non-null  object\n",
      " 8   address_2                   1362 non-null   object\n",
      " 9   postal_code                 22520 non-null  object\n",
      " 10  voluntary_mandated          22834 non-null  object\n",
      " 11  initial_firm_notification   22833 non-null  object\n",
      " 12  distribution_pattern        22840 non-null  object\n",
      " 13  recall_number               22839 non-null  object\n",
      " 14  product_description         22840 non-null  object\n",
      " 15  product_quantity            21246 non-null  object\n",
      " 16  reason_for_recall           22840 non-null  object\n",
      " 17  recall_initiation_date      22840 non-null  object\n",
      " 18  center_classification_date  22840 non-null  object\n",
      " 19  report_date                 22840 non-null  object\n",
      " 20  code_info                   22840 non-null  object\n",
      " 21  termination_date            21318 non-null  object\n",
      "dtypes: int64(1), object(21)\n",
      "memory usage: 3.8+ MB\n"
     ]
    },
    {
     "data": {
      "text/html": [
       "<div>\n",
       "<style scoped>\n",
       "    .dataframe tbody tr th:only-of-type {\n",
       "        vertical-align: middle;\n",
       "    }\n",
       "\n",
       "    .dataframe tbody tr th {\n",
       "        vertical-align: top;\n",
       "    }\n",
       "\n",
       "    .dataframe thead th {\n",
       "        text-align: right;\n",
       "    }\n",
       "</style>\n",
       "<table border=\"1\" class=\"dataframe\">\n",
       "  <thead>\n",
       "    <tr style=\"text-align: right;\">\n",
       "      <th></th>\n",
       "      <th>status</th>\n",
       "      <th>city</th>\n",
       "      <th>state</th>\n",
       "      <th>country</th>\n",
       "      <th>classification</th>\n",
       "      <th>event_id</th>\n",
       "      <th>recalling_firm</th>\n",
       "      <th>address_1</th>\n",
       "      <th>address_2</th>\n",
       "      <th>postal_code</th>\n",
       "      <th>...</th>\n",
       "      <th>distribution_pattern</th>\n",
       "      <th>recall_number</th>\n",
       "      <th>product_description</th>\n",
       "      <th>product_quantity</th>\n",
       "      <th>reason_for_recall</th>\n",
       "      <th>recall_initiation_date</th>\n",
       "      <th>center_classification_date</th>\n",
       "      <th>report_date</th>\n",
       "      <th>code_info</th>\n",
       "      <th>termination_date</th>\n",
       "    </tr>\n",
       "  </thead>\n",
       "  <tbody>\n",
       "    <tr>\n",
       "      <th>0</th>\n",
       "      <td>Ongoing</td>\n",
       "      <td>Jeffersonville</td>\n",
       "      <td>IN</td>\n",
       "      <td>United States</td>\n",
       "      <td>Class II</td>\n",
       "      <td>90568</td>\n",
       "      <td>Enjoy Life Natural Brands, LLC</td>\n",
       "      <td>301 Salem Rd</td>\n",
       "      <td>NaN</td>\n",
       "      <td>47130</td>\n",
       "      <td>...</td>\n",
       "      <td>Nationwide US and Canada</td>\n",
       "      <td>F-1568-2022</td>\n",
       "      <td>Enjoy Life Chewy Bars   Caramel Blondie (Choco...</td>\n",
       "      <td>89,736 total cases</td>\n",
       "      <td>Due to the potential presence of a foreign mat...</td>\n",
       "      <td>2022-06-30</td>\n",
       "      <td>2022-08-19</td>\n",
       "      <td>2022-08-31</td>\n",
       "      <td>Best By 3/3/2023 3/4/2023 23-MR-03</td>\n",
       "      <td>NaN</td>\n",
       "    </tr>\n",
       "    <tr>\n",
       "      <th>1</th>\n",
       "      <td>Ongoing</td>\n",
       "      <td>Jeffersonville</td>\n",
       "      <td>IN</td>\n",
       "      <td>United States</td>\n",
       "      <td>Class II</td>\n",
       "      <td>90568</td>\n",
       "      <td>Enjoy Life Natural Brands, LLC</td>\n",
       "      <td>301 Salem Rd</td>\n",
       "      <td>NaN</td>\n",
       "      <td>47130</td>\n",
       "      <td>...</td>\n",
       "      <td>Nationwide US and Canada</td>\n",
       "      <td>F-1572-2022</td>\n",
       "      <td>Enjoy Life Brownie Bites   Rich Chocolate, 4.7...</td>\n",
       "      <td>89,736 total cases</td>\n",
       "      <td>Due to the potential presence of a foreign mat...</td>\n",
       "      <td>2022-06-30</td>\n",
       "      <td>2022-08-19</td>\n",
       "      <td>2022-08-31</td>\n",
       "      <td>Best By 1/10/2023</td>\n",
       "      <td>NaN</td>\n",
       "    </tr>\n",
       "    <tr>\n",
       "      <th>2</th>\n",
       "      <td>Ongoing</td>\n",
       "      <td>Jeffersonville</td>\n",
       "      <td>IN</td>\n",
       "      <td>United States</td>\n",
       "      <td>Class II</td>\n",
       "      <td>90568</td>\n",
       "      <td>Enjoy Life Natural Brands, LLC</td>\n",
       "      <td>301 Salem Rd</td>\n",
       "      <td>NaN</td>\n",
       "      <td>47130</td>\n",
       "      <td>...</td>\n",
       "      <td>Nationwide US and Canada</td>\n",
       "      <td>F-1567-2022</td>\n",
       "      <td>Enjoy Life Chewy Bars   Sunseed Crunch, 5.75 o...</td>\n",
       "      <td>89,736 total cases</td>\n",
       "      <td>Due to the potential presence of a foreign mat...</td>\n",
       "      <td>2022-06-30</td>\n",
       "      <td>2022-08-19</td>\n",
       "      <td>2022-08-31</td>\n",
       "      <td>Best By 3/3/2023</td>\n",
       "      <td>NaN</td>\n",
       "    </tr>\n",
       "    <tr>\n",
       "      <th>3</th>\n",
       "      <td>Ongoing</td>\n",
       "      <td>Jeffersonville</td>\n",
       "      <td>IN</td>\n",
       "      <td>United States</td>\n",
       "      <td>Class II</td>\n",
       "      <td>90568</td>\n",
       "      <td>Enjoy Life Natural Brands, LLC</td>\n",
       "      <td>301 Salem Rd</td>\n",
       "      <td>NaN</td>\n",
       "      <td>47130</td>\n",
       "      <td>...</td>\n",
       "      <td>Nationwide US and Canada</td>\n",
       "      <td>F-1569-2022</td>\n",
       "      <td>Enjoy Life Soft Baked Fruit &amp; Oat Breakfast Ov...</td>\n",
       "      <td>89,736 total cases</td>\n",
       "      <td>Due to the potential presence of a foreign mat...</td>\n",
       "      <td>2022-06-30</td>\n",
       "      <td>2022-08-19</td>\n",
       "      <td>2022-08-31</td>\n",
       "      <td>Best By 2/3/2023 2/4/2023 2/12/2023 2/13/2023 ...</td>\n",
       "      <td>NaN</td>\n",
       "    </tr>\n",
       "    <tr>\n",
       "      <th>4</th>\n",
       "      <td>Terminated</td>\n",
       "      <td>Lewis Center</td>\n",
       "      <td>OH</td>\n",
       "      <td>United States</td>\n",
       "      <td>Class II</td>\n",
       "      <td>90671</td>\n",
       "      <td>Pegroks Kitchen</td>\n",
       "      <td>7500 Green Meadows Dr N</td>\n",
       "      <td>NaN</td>\n",
       "      <td>43035</td>\n",
       "      <td>...</td>\n",
       "      <td>Ohio, New York</td>\n",
       "      <td>F-1582-2022</td>\n",
       "      <td>Homemade Bofrot/Puff Puff mix, Pegroks Kitchen...</td>\n",
       "      <td>1000 units</td>\n",
       "      <td>Undeclared Allergen - Wheat</td>\n",
       "      <td>2022-07-26</td>\n",
       "      <td>2022-08-26</td>\n",
       "      <td>2022-08-31</td>\n",
       "      <td>Lot Number: 723592191436 Best By: 12/2022</td>\n",
       "      <td>2022-08-29</td>\n",
       "    </tr>\n",
       "  </tbody>\n",
       "</table>\n",
       "<p>5 rows × 22 columns</p>\n",
       "</div>"
      ],
      "text/plain": [
       "       status            city state        country classification  event_id  \\\n",
       "0     Ongoing  Jeffersonville    IN  United States       Class II     90568   \n",
       "1     Ongoing  Jeffersonville    IN  United States       Class II     90568   \n",
       "2     Ongoing  Jeffersonville    IN  United States       Class II     90568   \n",
       "3     Ongoing  Jeffersonville    IN  United States       Class II     90568   \n",
       "4  Terminated    Lewis Center    OH  United States       Class II     90671   \n",
       "\n",
       "                   recalling_firm                address_1 address_2  \\\n",
       "0  Enjoy Life Natural Brands, LLC             301 Salem Rd       NaN   \n",
       "1  Enjoy Life Natural Brands, LLC             301 Salem Rd       NaN   \n",
       "2  Enjoy Life Natural Brands, LLC             301 Salem Rd       NaN   \n",
       "3  Enjoy Life Natural Brands, LLC             301 Salem Rd       NaN   \n",
       "4                 Pegroks Kitchen  7500 Green Meadows Dr N       NaN   \n",
       "\n",
       "  postal_code  ...      distribution_pattern recall_number  \\\n",
       "0       47130  ...  Nationwide US and Canada   F-1568-2022   \n",
       "1       47130  ...  Nationwide US and Canada   F-1572-2022   \n",
       "2       47130  ...  Nationwide US and Canada   F-1567-2022   \n",
       "3       47130  ...  Nationwide US and Canada   F-1569-2022   \n",
       "4       43035  ...            Ohio, New York   F-1582-2022   \n",
       "\n",
       "                                 product_description    product_quantity  \\\n",
       "0  Enjoy Life Chewy Bars   Caramel Blondie (Choco...  89,736 total cases   \n",
       "1  Enjoy Life Brownie Bites   Rich Chocolate, 4.7...  89,736 total cases   \n",
       "2  Enjoy Life Chewy Bars   Sunseed Crunch, 5.75 o...  89,736 total cases   \n",
       "3  Enjoy Life Soft Baked Fruit & Oat Breakfast Ov...  89,736 total cases   \n",
       "4  Homemade Bofrot/Puff Puff mix, Pegroks Kitchen...          1000 units   \n",
       "\n",
       "                                   reason_for_recall recall_initiation_date  \\\n",
       "0  Due to the potential presence of a foreign mat...             2022-06-30   \n",
       "1  Due to the potential presence of a foreign mat...             2022-06-30   \n",
       "2  Due to the potential presence of a foreign mat...             2022-06-30   \n",
       "3  Due to the potential presence of a foreign mat...             2022-06-30   \n",
       "4                        Undeclared Allergen - Wheat             2022-07-26   \n",
       "\n",
       "  center_classification_date report_date  \\\n",
       "0                 2022-08-19  2022-08-31   \n",
       "1                 2022-08-19  2022-08-31   \n",
       "2                 2022-08-19  2022-08-31   \n",
       "3                 2022-08-19  2022-08-31   \n",
       "4                 2022-08-26  2022-08-31   \n",
       "\n",
       "                                           code_info termination_date  \n",
       "0                Best By 3/3/2023 3/4/2023 23-MR-03               NaN  \n",
       "1                                 Best By 1/10/2023               NaN  \n",
       "2                                  Best By 3/3/2023               NaN  \n",
       "3  Best By 2/3/2023 2/4/2023 2/12/2023 2/13/2023 ...              NaN  \n",
       "4         Lot Number: 723592191436 Best By: 12/2022        2022-08-29  \n",
       "\n",
       "[5 rows x 22 columns]"
      ]
     },
     "execution_count": 3,
     "metadata": {},
     "output_type": "execute_result"
    }
   ],
   "source": [
    "# checking columns and datatypes\n",
    "df.info()\n",
    "df.head(5)"
   ]
  },
  {
   "cell_type": "code",
   "execution_count": 4,
   "id": "7b8a7cef",
   "metadata": {},
   "outputs": [
    {
     "name": "stderr",
     "output_type": "stream",
     "text": [
      "/var/folders/2r/zlnz65h54zbg6qtg68trwzgh0000gn/T/ipykernel_96850/1846168991.py:11: SettingWithCopyWarning: \n",
      "A value is trying to be set on a copy of a slice from a DataFrame.\n",
      "Try using .loc[row_indexer,col_indexer] = value instead\n",
      "\n",
      "See the caveats in the documentation: https://pandas.pydata.org/pandas-docs/stable/user_guide/indexing.html#returning-a-view-versus-a-copy\n",
      "  food['year'] = food['recall_initiation_date'].dt.year\n",
      "/var/folders/2r/zlnz65h54zbg6qtg68trwzgh0000gn/T/ipykernel_96850/1846168991.py:12: SettingWithCopyWarning: \n",
      "A value is trying to be set on a copy of a slice from a DataFrame.\n",
      "Try using .loc[row_indexer,col_indexer] = value instead\n",
      "\n",
      "See the caveats in the documentation: https://pandas.pydata.org/pandas-docs/stable/user_guide/indexing.html#returning-a-view-versus-a-copy\n",
      "  food['month'] = food['recall_initiation_date'].dt.month\n"
     ]
    }
   ],
   "source": [
    "# String to datetime\n",
    "\n",
    "df[\"recall_initiation_date\"] =  pd.to_datetime(df[\"recall_initiation_date\"], format=\"%Y-%m-%d\")\n",
    "\n",
    "# making a new dataframe with the columns I want to use at the beginning\n",
    "\n",
    "food = df[['classification', 'recalling_firm', 'reason_for_recall', 'recall_initiation_date']]\n",
    "\n",
    "# making two more columns with month and year\n",
    "\n",
    "food['year'] = food['recall_initiation_date'].dt.year\n",
    "food['month'] = food['recall_initiation_date'].dt.month\n"
   ]
  },
  {
   "cell_type": "code",
   "execution_count": 5,
   "id": "a254ea9c",
   "metadata": {},
   "outputs": [],
   "source": [
    "import plotly.graph_objs as go\n",
    "\n",
    "\n",
    "# checking the number of food recalls per year\n",
    "\n",
    "years = food.groupby('year', as_index = False).count()\n",
    "\n",
    "# a plot to visualise the difference between years\n",
    "\n",
    "fig_years = px.bar(years, \n",
    "           x='year', \n",
    "           y='recalling_firm',\n",
    "           color='classification', \n",
    "           title='Total number of food recalls per year',\n",
    "           template='simple_white',\n",
    "           color_continuous_scale=[\"#F4ECD6\",\"#A7CAB1\",\"#88B7B5\", \"#847996\"],\n",
    "           width=1000,\n",
    "           height=500)\n",
    "\n",
    "fig_years.add_traces(go.Scatter(x= years.year, y=years.recalling_firm, mode = 'lines', showlegend = False, marker_color='#FDDB31'))\n",
    "fig_years.update_layout( font_family='Courier New', title_font_size=24)\n"
   ]
  },
  {
   "cell_type": "code",
   "execution_count": 6,
   "id": "fa1f1f28",
   "metadata": {},
   "outputs": [],
   "source": [
    "# checking the number of food recalls per month\n",
    "\n",
    "months = food.groupby('month', as_index = False).count()\n",
    "\n",
    "# a plot to visualise the difference between months\n",
    "\n",
    "fig_months = px.bar(months, \n",
    "           x='month', \n",
    "           y='recalling_firm',\n",
    "           color='classification', \n",
    "           title='Total number of food recalls per month',\n",
    "           template='simple_white',\n",
    "           color_continuous_scale=[\"#F4ECD6\",\"#A7CAB1\",\"#88B7B5\", \"#847996\"],\n",
    "           width=1000,\n",
    "           height=500)\n",
    "\n",
    "fig_months.add_traces(go.Scatter(x= months.month, y=months.recalling_firm, mode = 'lines', showlegend = False, marker_color='#FDDB31'))\n",
    "fig_months.update_layout( font_family='Courier New', title_font_size=24)\n"
   ]
  },
  {
   "cell_type": "code",
   "execution_count": 7,
   "id": "96c22595",
   "metadata": {},
   "outputs": [],
   "source": [
    "# top 10 firms in recall number\n",
    "\n",
    "most_recalling_firm = food.groupby('recalling_firm',  as_index=False).count().sort_values('classification', ascending = False).head(10)\n"
   ]
  },
  {
   "cell_type": "code",
   "execution_count": 8,
   "id": "b283e6b8",
   "metadata": {},
   "outputs": [],
   "source": [
    "# plots them in a bar chart\n",
    "\n",
    "fig = px.bar(most_recalling_firm, \n",
    "           x='classification', \n",
    "           y='recalling_firm',\n",
    "           color='classification', \n",
    "           title='Firms with the largest number of food recalls',\n",
    "           template='simple_white',\n",
    "           color_continuous_scale=[\"#F4ECD6\", \"#A7CAB1\",\"#88B7B5\", \"#847996\"],\n",
    "           width=1000,\n",
    "           height=500)\n",
    "\n",
    "fig.update_layout(font_family='Courier New', title_font_size=24)"
   ]
  },
  {
   "cell_type": "code",
   "execution_count": 9,
   "id": "388e20f1",
   "metadata": {},
   "outputs": [],
   "source": [
    "# Distribution of danger class (1: most dangerous)\n",
    "\n",
    "classes = food.groupby('classification',  as_index=False).count()\n"
   ]
  },
  {
   "cell_type": "code",
   "execution_count": 10,
   "id": "13a4b2e9",
   "metadata": {},
   "outputs": [],
   "source": [
    "# pie chart \n",
    "\n",
    "\n",
    "fig = px.pie(data_frame=classes,\n",
    "             names= {'Class I': 'Most Dangerous', \n",
    "                     'Class II':'Potentially Dangerous', \n",
    "                     'Class III':'Least Dangerous'},\n",
    "             color_discrete_map={9916:'#88B7B5',\n",
    "                                 11681:'#847996',\n",
    "                                 1243:'#F4ECD6',\n",
    "                                 },\n",
    "             labels=classes['recalling_firm'],\n",
    "             values=classes['recalling_firm'],\n",
    "             hole=.4,\n",
    "             color='reason_for_recall',\n",
    "             title='Recall Classification')\n",
    "\n",
    "fig.update_layout(font_family='Courier New', title_font_size=20)\n",
    "fig.update_layout(height=400, width=500, title_text='Recall Classification', font_size=14)\n"
   ]
  },
  {
   "cell_type": "markdown",
   "id": "066d734e",
   "metadata": {},
   "source": [
    "## NLP to the announcement texts"
   ]
  },
  {
   "cell_type": "markdown",
   "id": "8319ce80",
   "metadata": {},
   "source": [
    "### I am keeping most of the code as comment in order to decrease the file size"
   ]
  },
  {
   "cell_type": "code",
   "execution_count": 11,
   "id": "6414a6f5",
   "metadata": {},
   "outputs": [
    {
     "name": "stderr",
     "output_type": "stream",
     "text": [
      "/var/folders/2r/zlnz65h54zbg6qtg68trwzgh0000gn/T/ipykernel_96850/1640997083.py:3: SettingWithCopyWarning:\n",
      "\n",
      "\n",
      "A value is trying to be set on a copy of a slice from a DataFrame.\n",
      "Try using .loc[row_indexer,col_indexer] = value instead\n",
      "\n",
      "See the caveats in the documentation: https://pandas.pydata.org/pandas-docs/stable/user_guide/indexing.html#returning-a-view-versus-a-copy\n",
      "\n"
     ]
    }
   ],
   "source": [
    "# convert the column with reason_for_recall text in lowercase\n",
    "\n",
    "food[\"reason_for_recall\"] = food[\"reason_for_recall\"].str.lower()\n"
   ]
  },
  {
   "cell_type": "code",
   "execution_count": 12,
   "id": "c812cc6a",
   "metadata": {},
   "outputs": [
    {
     "name": "stderr",
     "output_type": "stream",
     "text": [
      "/var/folders/2r/zlnz65h54zbg6qtg68trwzgh0000gn/T/ipykernel_96850/3245652339.py:8: SettingWithCopyWarning:\n",
      "\n",
      "\n",
      "A value is trying to be set on a copy of a slice from a DataFrame.\n",
      "Try using .loc[row_indexer,col_indexer] = value instead\n",
      "\n",
      "See the caveats in the documentation: https://pandas.pydata.org/pandas-docs/stable/user_guide/indexing.html#returning-a-view-versus-a-copy\n",
      "\n",
      "/var/folders/2r/zlnz65h54zbg6qtg68trwzgh0000gn/T/ipykernel_96850/3245652339.py:14: SettingWithCopyWarning:\n",
      "\n",
      "\n",
      "A value is trying to be set on a copy of a slice from a DataFrame.\n",
      "Try using .loc[row_indexer,col_indexer] = value instead\n",
      "\n",
      "See the caveats in the documentation: https://pandas.pydata.org/pandas-docs/stable/user_guide/indexing.html#returning-a-view-versus-a-copy\n",
      "\n"
     ]
    }
   ],
   "source": [
    "# clear the text from characters we don't need\n",
    "\n",
    "import string\n",
    "def remove_punctuations(text):\n",
    "    for punctuation in string.punctuation:\n",
    "        text = text.replace(punctuation, '')\n",
    "    return text\n",
    "food[\"reason_for_recall\"] = food[\"reason_for_recall\"].apply(remove_punctuations)\n",
    "\n",
    "# also words we don't need\n",
    "words = ['food','products', 'product', 'potential', 'due', 'presence', 'good', 'recall','hospital','contamination', 'contains','patient','single','fda', 'inspection']\n",
    "\n",
    "for word in words:\n",
    "    food[\"reason_for_recall\"] = food[\"reason_for_recall\"].str.replace(word,\"\")\n"
   ]
  },
  {
   "cell_type": "code",
   "execution_count": 13,
   "id": "e1952b7b",
   "metadata": {},
   "outputs": [
    {
     "name": "stderr",
     "output_type": "stream",
     "text": [
      "[nltk_data] Downloading package stopwords to\n",
      "[nltk_data]     /Users/konstantina/nltk_data...\n",
      "[nltk_data]   Package stopwords is already up-to-date!\n",
      "/var/folders/2r/zlnz65h54zbg6qtg68trwzgh0000gn/T/ipykernel_96850/1851588764.py:9: SettingWithCopyWarning:\n",
      "\n",
      "\n",
      "A value is trying to be set on a copy of a slice from a DataFrame.\n",
      "Try using .loc[row_indexer,col_indexer] = value instead\n",
      "\n",
      "See the caveats in the documentation: https://pandas.pydata.org/pandas-docs/stable/user_guide/indexing.html#returning-a-view-versus-a-copy\n",
      "\n"
     ]
    }
   ],
   "source": [
    "# Stopwords from nltk\n",
    "\n",
    "nltk.download('stopwords')\n",
    "  \n",
    "stop = stopwords.words('english')\n",
    "\n",
    "#Removes them\n",
    "\n",
    "food[\"reason_for_recall\"] = food[\"reason_for_recall\"].apply(lambda x: ' '.join([word for word in x.split() if word not in (stop)]))\n"
   ]
  },
  {
   "cell_type": "code",
   "execution_count": 14,
   "id": "b84b2526",
   "metadata": {},
   "outputs": [
    {
     "name": "stderr",
     "output_type": "stream",
     "text": [
      "[nltk_data] Downloading package punkt to\n",
      "[nltk_data]     /Users/konstantina/nltk_data...\n",
      "[nltk_data]   Package punkt is already up-to-date!\n",
      "/var/folders/2r/zlnz65h54zbg6qtg68trwzgh0000gn/T/ipykernel_96850/1948228107.py:4: SettingWithCopyWarning:\n",
      "\n",
      "\n",
      "A value is trying to be set on a copy of a slice from a DataFrame.\n",
      "Try using .loc[row_indexer,col_indexer] = value instead\n",
      "\n",
      "See the caveats in the documentation: https://pandas.pydata.org/pandas-docs/stable/user_guide/indexing.html#returning-a-view-versus-a-copy\n",
      "\n"
     ]
    }
   ],
   "source": [
    "#Make lists out of tokens\n",
    "nltk.download('punkt')\n",
    "\n",
    "food[\"tokens\"] = food[\"reason_for_recall\"].apply(word_tokenize)\n"
   ]
  },
  {
   "cell_type": "code",
   "execution_count": 15,
   "id": "ed7b38a3",
   "metadata": {},
   "outputs": [
    {
     "name": "stderr",
     "output_type": "stream",
     "text": [
      "[nltk_data] Downloading package wordnet to\n",
      "[nltk_data]     /Users/konstantina/nltk_data...\n",
      "[nltk_data]   Package wordnet is already up-to-date!\n",
      "[nltk_data] Downloading package omw-1.4 to\n",
      "[nltk_data]     /Users/konstantina/nltk_data...\n",
      "[nltk_data]   Package omw-1.4 is already up-to-date!\n",
      "/var/folders/2r/zlnz65h54zbg6qtg68trwzgh0000gn/T/ipykernel_96850/1777322651.py:11: SettingWithCopyWarning:\n",
      "\n",
      "\n",
      "A value is trying to be set on a copy of a slice from a DataFrame.\n",
      "Try using .loc[row_indexer,col_indexer] = value instead\n",
      "\n",
      "See the caveats in the documentation: https://pandas.pydata.org/pandas-docs/stable/user_guide/indexing.html#returning-a-view-versus-a-copy\n",
      "\n"
     ]
    }
   ],
   "source": [
    "# Lemmatize the column\n",
    "nltk.download('wordnet')\n",
    "nltk.download('omw-1.4')\n",
    "\n",
    "w_tokenizer = nltk.tokenize.WhitespaceTokenizer()\n",
    "lemmatizer = nltk.stem.WordNetLemmatizer()\n",
    "\n",
    "def lemmatize_text(text):\n",
    "    return [lemmatizer.lemmatize(w) for w in w_tokenizer.tokenize(text)]\n",
    "\n",
    "food['text_lemmatized'] = food['reason_for_recall'].apply(lemmatize_text)\n",
    "\n"
   ]
  },
  {
   "cell_type": "code",
   "execution_count": 16,
   "id": "e6ec5658",
   "metadata": {},
   "outputs": [
    {
     "name": "stderr",
     "output_type": "stream",
     "text": [
      "[nltk_data] Downloading package averaged_perceptron_tagger to\n",
      "[nltk_data]     /Users/konstantina/nltk_data...\n",
      "[nltk_data]   Package averaged_perceptron_tagger is already up-to-\n",
      "[nltk_data]       date!\n",
      "/var/folders/2r/zlnz65h54zbg6qtg68trwzgh0000gn/T/ipykernel_96850/2315109786.py:5: SettingWithCopyWarning:\n",
      "\n",
      "\n",
      "A value is trying to be set on a copy of a slice from a DataFrame.\n",
      "Try using .loc[row_indexer,col_indexer] = value instead\n",
      "\n",
      "See the caveats in the documentation: https://pandas.pydata.org/pandas-docs/stable/user_guide/indexing.html#returning-a-view-versus-a-copy\n",
      "\n"
     ]
    }
   ],
   "source": [
    "# Tag the words\n",
    "nltk.download('averaged_perceptron_tagger')\n",
    "\n",
    "\n",
    "food['tagged'] = food['text_lemmatized'].apply(nltk.pos_tag)\n",
    "\n"
   ]
  },
  {
   "cell_type": "code",
   "execution_count": 17,
   "id": "1cdeb469",
   "metadata": {},
   "outputs": [
    {
     "name": "stderr",
     "output_type": "stream",
     "text": [
      "/var/folders/2r/zlnz65h54zbg6qtg68trwzgh0000gn/T/ipykernel_96850/797771649.py:3: SettingWithCopyWarning:\n",
      "\n",
      "\n",
      "A value is trying to be set on a copy of a slice from a DataFrame.\n",
      "Try using .loc[row_indexer,col_indexer] = value instead\n",
      "\n",
      "See the caveats in the documentation: https://pandas.pydata.org/pandas-docs/stable/user_guide/indexing.html#returning-a-view-versus-a-copy\n",
      "\n"
     ]
    }
   ],
   "source": [
    "# keep only nouns, adjectives, adverbs\n",
    "\n",
    "food['n_adj_adv'] = food['tagged'].apply(lambda x: [word for word, tag in x if tag in ['NN', 'NNS', 'NNP', 'NNPS', 'JJ', 'JJS', 'JJR', 'RB', 'RBR', 'RBS' ]])\n",
    "\n"
   ]
  },
  {
   "cell_type": "code",
   "execution_count": 18,
   "id": "36acec8e",
   "metadata": {},
   "outputs": [
    {
     "name": "stderr",
     "output_type": "stream",
     "text": [
      "/var/folders/2r/zlnz65h54zbg6qtg68trwzgh0000gn/T/ipykernel_96850/1864905171.py:8: SettingWithCopyWarning:\n",
      "\n",
      "\n",
      "A value is trying to be set on a copy of a slice from a DataFrame.\n",
      "Try using .loc[row_indexer,col_indexer] = value instead\n",
      "\n",
      "See the caveats in the documentation: https://pandas.pydata.org/pandas-docs/stable/user_guide/indexing.html#returning-a-view-versus-a-copy\n",
      "\n"
     ]
    }
   ],
   "source": [
    "# makes a column with a final cleared text\n",
    "\n",
    "\n",
    "def make_string(lst):\n",
    "    string = \" \".join(lst)\n",
    "    return string\n",
    "\n",
    "food['final'] = food[\"n_adj_adv\"].apply(make_string)\n",
    "\n"
   ]
  },
  {
   "cell_type": "code",
   "execution_count": 19,
   "id": "1e1d7727",
   "metadata": {},
   "outputs": [],
   "source": [
    "# making the wordpress \n",
    "\n",
    "#reasons = \" \".join(reason for reason in food.final)\n"
   ]
  },
  {
   "cell_type": "code",
   "execution_count": 20,
   "id": "57729f6c",
   "metadata": {
    "scrolled": false
   },
   "outputs": [],
   "source": [
    "# taking an image in order to generate the wordcloud in a shape. I am choosing an apple..!\n",
    "\n",
    "#apple = np.array(Image.open(r'/Users/konstantina/Downloads/14228450.jpg'))\n",
    "\n"
   ]
  },
  {
   "cell_type": "code",
   "execution_count": 21,
   "id": "477fe823",
   "metadata": {
    "scrolled": false
   },
   "outputs": [],
   "source": [
    "# Create and generate wordcloud\n",
    "\n",
    "#wordcloud = WordCloud( background_color=None, mask=apple, mode='RGBA', max_words=200, width=800, height=400).generate(reasons)\n",
    "\n",
    "\n",
    "#Display the image\n",
    "\n",
    "# plt.figure( figsize=(20,10) )\n",
    "\n",
    "# plt.imshow(wordcloud, interpolation='bilinear')\n",
    "# plt.axis(\"off\")\n",
    "# plt.show()\n",
    "\n"
   ]
  },
  {
   "cell_type": "markdown",
   "id": "d6212487",
   "metadata": {},
   "source": [
    "## Parsing one more dataset in order to study further the reasons of the recalls"
   ]
  },
  {
   "cell_type": "code",
   "execution_count": 22,
   "id": "ac342cbc",
   "metadata": {},
   "outputs": [],
   "source": [
    "df2 = pd.read_csv('combined.csv')"
   ]
  },
  {
   "cell_type": "code",
   "execution_count": 23,
   "id": "bb1e13f8",
   "metadata": {},
   "outputs": [
    {
     "name": "stdout",
     "output_type": "stream",
     "text": [
      "<class 'pandas.core.frame.DataFrame'>\n",
      "RangeIndex: 21357 entries, 0 to 21356\n",
      "Data columns (total 23 columns):\n",
      " #   Column                        Non-Null Count  Dtype \n",
      "---  ------                        --------------  ----- \n",
      " 0   status                        21357 non-null  object\n",
      " 1   city                          21357 non-null  object\n",
      " 2   state                         21076 non-null  object\n",
      " 3   country                       21357 non-null  object\n",
      " 4   classification                21357 non-null  int64 \n",
      " 5   event_id                      21357 non-null  int64 \n",
      " 6   recalling_firm                21357 non-null  object\n",
      " 7   address_1                     21355 non-null  object\n",
      " 8   address_2                     1295 non-null   object\n",
      " 9   postal_code                   21063 non-null  object\n",
      " 10  voluntary_mandated            21352 non-null  object\n",
      " 11  initial_firm_notification     21352 non-null  object\n",
      " 12  distribution_pattern          21357 non-null  object\n",
      " 13  recall_number                 21356 non-null  object\n",
      " 14  product_description           21357 non-null  object\n",
      " 15  product_quantity              19705 non-null  object\n",
      " 16  reason_for_recall             21357 non-null  object\n",
      " 17  reason_for_recall_simplified  21357 non-null  object\n",
      " 18  recall_initiation_date        21357 non-null  object\n",
      " 19  center_classification_date    21357 non-null  object\n",
      " 20  report_date                   21357 non-null  object\n",
      " 21  code_info                     21357 non-null  object\n",
      " 22  termination_date              19937 non-null  object\n",
      "dtypes: int64(2), object(21)\n",
      "memory usage: 3.7+ MB\n"
     ]
    }
   ],
   "source": [
    "df2.info()"
   ]
  },
  {
   "cell_type": "code",
   "execution_count": 24,
   "id": "7b82ad48",
   "metadata": {},
   "outputs": [],
   "source": [
    "# keeping in a new dataframe just the columns I need\n",
    "\n",
    "combined = df2[['product_description','reason_for_recall_simplified']]\n"
   ]
  },
  {
   "cell_type": "code",
   "execution_count": 25,
   "id": "6fbccc6c",
   "metadata": {},
   "outputs": [],
   "source": [
    "reason_for_recall = combined.groupby('reason_for_recall_simplified', as_index=False).count().sort_values('product_description', ascending = False).head(10)"
   ]
  },
  {
   "cell_type": "code",
   "execution_count": 26,
   "id": "408e7208",
   "metadata": {},
   "outputs": [],
   "source": [
    "# plots them in a bar chart\n",
    "\n",
    "fig_reasons = px.bar(reason_for_recall, \n",
    "           x='product_description', \n",
    "           y='reason_for_recall_simplified',\n",
    "           color='product_description', \n",
    "           title='Top 10 reasons for food recalls',\n",
    "           template='simple_white',\n",
    "           color_continuous_scale=[\"#F4ECD6\", \"#A7CAB1\",\"#88B7B5\", \"#847996\"],\n",
    "           width=1000,\n",
    "           height=500)\n",
    "\n",
    "# fig_reasons.update_layout(font_family='Courier New', title_font_size=24)"
   ]
  }
 ],
 "metadata": {
  "kernelspec": {
   "display_name": "Python 3 (ipykernel)",
   "language": "python",
   "name": "python3"
  },
  "language_info": {
   "codemirror_mode": {
    "name": "ipython",
    "version": 3
   },
   "file_extension": ".py",
   "mimetype": "text/x-python",
   "name": "python",
   "nbconvert_exporter": "python",
   "pygments_lexer": "ipython3",
   "version": "3.8.10"
  },
  "vscode": {
   "interpreter": {
    "hash": "5337387aa7af273ff0cfce80f160cdbda673b25d5a23236bebe1ab9707e77f14"
   }
  }
 },
 "nbformat": 4,
 "nbformat_minor": 5
}
